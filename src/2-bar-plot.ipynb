{
 "cells": [
  {
   "cell_type": "markdown",
   "metadata": {},
   "source": [
    "### Exercise 2: Bar Plot with Colors"
   ]
  },
  {
   "cell_type": "code",
   "execution_count": null,
   "metadata": {},
   "outputs": [],
   "source": [
    "# TASK: Create a bar plot with the following data: categories = ['A', 'B', 'C', 'D'] and values = [5, 7, 3, 9].\n",
    "# Use different colors for each bar and add a title to the plot.\n",
    "from turtle import color\n",
    "import matplotlib.pyplot as plt\n",
    "Categories = ['Category A', 'Category B', 'Category C', 'Category D']\n",
    "values = [5, 7, 3, 9]\n",
    "\n",
    "colors = ['red', 'green', 'blue', 'yellow']\n",
    "plt.bar(Categories, values, color=colors)\n",
    "\n",
    "plt.xlabel('Categories')\n",
    "plt.ylabel('values')\n",
    "plt.title('Bar plot with different colored bars')\n",
    "\n",
    "plt.show()"
   ]
  }
 ],
 "metadata": {
  "kernelspec": {
   "display_name": "Python 3",
   "language": "python",
   "name": "python3"
  },
  "language_info": {
   "codemirror_mode": {
    "name": "ipython",
    "version": 3
   },
   "file_extension": ".py",
   "mimetype": "text/x-python",
   "name": "python",
   "nbconvert_exporter": "python",
   "pygments_lexer": "ipython3",
   "version": "3.10.12"
  }
 },
 "nbformat": 4,
 "nbformat_minor": 2
}
